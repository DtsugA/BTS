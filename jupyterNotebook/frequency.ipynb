{
 "cells": [
  {
   "cell_type": "code",
   "execution_count": 1,
   "id": "15fbdbf0",
   "metadata": {},
   "outputs": [
    {
     "ename": "ModuleNotFoundError",
     "evalue": "No module named 'wordcloud'",
     "output_type": "error",
     "traceback": [
      "\u001b[1;31m---------------------------------------------------------------------------\u001b[0m",
      "\u001b[1;31mModuleNotFoundError\u001b[0m                       Traceback (most recent call last)",
      "Input \u001b[1;32mIn [1]\u001b[0m, in \u001b[0;36m<cell line: 10>\u001b[1;34m()\u001b[0m\n\u001b[0;32m      7\u001b[0m \u001b[38;5;28;01mimport\u001b[39;00m \u001b[38;5;21;01mos\u001b[39;00m\n\u001b[0;32m      8\u001b[0m \u001b[38;5;28;01mimport\u001b[39;00m \u001b[38;5;21;01mre\u001b[39;00m\n\u001b[1;32m---> 10\u001b[0m \u001b[38;5;28;01mfrom\u001b[39;00m \u001b[38;5;21;01mwordcloud\u001b[39;00m \u001b[38;5;28;01mimport\u001b[39;00m WordCloud, STOPWORDS\n\u001b[0;32m     11\u001b[0m \u001b[38;5;28;01mfrom\u001b[39;00m \u001b[38;5;21;01mnltk\u001b[39;00m\u001b[38;5;21;01m.\u001b[39;00m\u001b[38;5;21;01mcorpus\u001b[39;00m \u001b[38;5;28;01mimport\u001b[39;00m stopwords\n\u001b[0;32m     12\u001b[0m \u001b[38;5;28;01mimport\u001b[39;00m \u001b[38;5;21;01mmatplotlib\u001b[39;00m\u001b[38;5;21;01m.\u001b[39;00m\u001b[38;5;21;01mpyplot\u001b[39;00m \u001b[38;5;28;01mas\u001b[39;00m \u001b[38;5;21;01mplt\u001b[39;00m\n",
      "\u001b[1;31mModuleNotFoundError\u001b[0m: No module named 'wordcloud'"
     ]
    }
   ],
   "source": [
    "import numpy as np # linear algebra\n",
    "import pandas as pd # data processing, CSV file I/O (e.g. pd.read_csv)\n",
    "import nltk as nlp\n",
    "# Input data files are available in the \"../input/\" directory.\n",
    "# For example, running this (by clicking run or pressing Shift+Enter) will list the files in the input directory\n",
    "\n",
    "import os\n",
    "import re\n",
    "\n",
    "from wordcloud import WordCloud, STOPWORDS\n",
    "from nltk.corpus import stopwords\n",
    "import matplotlib.pyplot as plt\n",
    "\n",
    "from sklearn.feature_extraction.text import TfidfVectorizer"
   ]
  },
  {
   "cell_type": "code",
   "execution_count": 5,
   "id": "be4bf47a",
   "metadata": {},
   "outputs": [
    {
     "data": {
      "text/html": [
       "<div>\n",
       "<style scoped>\n",
       "    .dataframe tbody tr th:only-of-type {\n",
       "        vertical-align: middle;\n",
       "    }\n",
       "\n",
       "    .dataframe tbody tr th {\n",
       "        vertical-align: top;\n",
       "    }\n",
       "\n",
       "    .dataframe thead th {\n",
       "        text-align: right;\n",
       "    }\n",
       "</style>\n",
       "<table border=\"1\" class=\"dataframe\">\n",
       "  <thead>\n",
       "    <tr style=\"text-align: right;\">\n",
       "      <th></th>\n",
       "      <th>Unnamed: 0</th>\n",
       "      <th>Name</th>\n",
       "      <th>Link</th>\n",
       "      <th>Advertiser</th>\n",
       "      <th>Description</th>\n",
       "    </tr>\n",
       "  </thead>\n",
       "  <tbody>\n",
       "    <tr>\n",
       "      <th>0</th>\n",
       "      <td>0</td>\n",
       "      <td>Cybersecurity Analyst with Project Coordinator...</td>\n",
       "      <td>https://www.dice.com/jobs/detail/5c9720a5cf20b...</td>\n",
       "      <td>Strategic Systems Inc</td>\n",
       "      <td>\\nthis is a 100% Remote positionTitle: Cyberse...</td>\n",
       "    </tr>\n",
       "    <tr>\n",
       "      <th>1</th>\n",
       "      <td>1</td>\n",
       "      <td>Senior Cybersecurity Analyst - SIEM SME</td>\n",
       "      <td>https://www.dice.com/jobs/detail/940e2bd0f2b08...</td>\n",
       "      <td>QED National</td>\n",
       "      <td>\\nA leading NYC academic medical center is loo...</td>\n",
       "    </tr>\n",
       "    <tr>\n",
       "      <th>2</th>\n",
       "      <td>2</td>\n",
       "      <td>CyberSecurity Analyst</td>\n",
       "      <td>https://www.dice.com/jobs/detail/23aebf6900cb7...</td>\n",
       "      <td>GlobalLogic, Inc.</td>\n",
       "      <td>\\nJob Description5-10 years of experience with...</td>\n",
       "    </tr>\n",
       "    <tr>\n",
       "      <th>3</th>\n",
       "      <td>3</td>\n",
       "      <td>Cybersecurity Analyst I</td>\n",
       "      <td>https://www.dice.com/jobs/detail/4e9185c637e66...</td>\n",
       "      <td>Alliant Energy</td>\n",
       "      <td>\\nPosting Details Alliant Energy has an outsta...</td>\n",
       "    </tr>\n",
       "    <tr>\n",
       "      <th>4</th>\n",
       "      <td>4</td>\n",
       "      <td>Cybersecurity Analyst (with Reporting)</td>\n",
       "      <td>https://www.dice.com/jobs/detail/469eb119c743f...</td>\n",
       "      <td>Absolute Information Technologies Inc.</td>\n",
       "      <td>\\n      Title   Cybersecurity Analyst (with Re...</td>\n",
       "    </tr>\n",
       "  </tbody>\n",
       "</table>\n",
       "</div>"
      ],
      "text/plain": [
       "   Unnamed: 0                                               Name  \\\n",
       "0           0  Cybersecurity Analyst with Project Coordinator...   \n",
       "1           1            Senior Cybersecurity Analyst - SIEM SME   \n",
       "2           2                              CyberSecurity Analyst   \n",
       "3           3                            Cybersecurity Analyst I   \n",
       "4           4             Cybersecurity Analyst (with Reporting)   \n",
       "\n",
       "                                                Link  \\\n",
       "0  https://www.dice.com/jobs/detail/5c9720a5cf20b...   \n",
       "1  https://www.dice.com/jobs/detail/940e2bd0f2b08...   \n",
       "2  https://www.dice.com/jobs/detail/23aebf6900cb7...   \n",
       "3  https://www.dice.com/jobs/detail/4e9185c637e66...   \n",
       "4  https://www.dice.com/jobs/detail/469eb119c743f...   \n",
       "\n",
       "                               Advertiser  \\\n",
       "0                   Strategic Systems Inc   \n",
       "1                            QED National   \n",
       "2                       GlobalLogic, Inc.   \n",
       "3                          Alliant Energy   \n",
       "4  Absolute Information Technologies Inc.   \n",
       "\n",
       "                                         Description  \n",
       "0  \\nthis is a 100% Remote positionTitle: Cyberse...  \n",
       "1  \\nA leading NYC academic medical center is loo...  \n",
       "2  \\nJob Description5-10 years of experience with...  \n",
       "3  \\nPosting Details Alliant Energy has an outsta...  \n",
       "4  \\n      Title   Cybersecurity Analyst (with Re...  "
      ]
     },
     "execution_count": 5,
     "metadata": {},
     "output_type": "execute_result"
    }
   ],
   "source": [
    "data = pd.read_csv(\"JobAnalyst_Dice.csv\")\n",
    "data.head()"
   ]
  },
  {
   "cell_type": "code",
   "execution_count": 6,
   "id": "a920c5f5",
   "metadata": {},
   "outputs": [
    {
     "name": "stdout",
     "output_type": "stream",
     "text": [
      "\n",
      "A leading NYC academic medical center is looking for a Senior Cybersecurity Analyst  - SIEM SME for a contract to hire role in NYC. Please note: This position will require onsite work.Minimum QualificationsBachelor's degree with a focus in Information Security, Computer Science or Computer EngineeringDemonstrated experience managing a SIEM within an enterprise-level information security programFamiliarity with data lakes or big data technologies and integrations is desired Knowledge & Experienc ...\n",
      "\n",
      "total length 4382\n"
     ]
    }
   ],
   "source": [
    "print(data.Description[1][:500], \"...\")\n",
    "print(\"\\ntotal length\", len(data.Description[1]))"
   ]
  },
  {
   "cell_type": "code",
   "execution_count": 7,
   "id": "31238fb6",
   "metadata": {},
   "outputs": [
    {
     "name": "stdout",
     "output_type": "stream",
     "text": [
      "<class 'pandas.core.frame.DataFrame'>\n",
      "RangeIndex: 94 entries, 0 to 93\n",
      "Data columns (total 5 columns):\n",
      " #   Column       Non-Null Count  Dtype \n",
      "---  ------       --------------  ----- \n",
      " 0   Unnamed: 0   94 non-null     int64 \n",
      " 1   Name         94 non-null     object\n",
      " 2   Link         94 non-null     object\n",
      " 3   Advertiser   94 non-null     object\n",
      " 4   Description  94 non-null     object\n",
      "dtypes: int64(1), object(4)\n",
      "memory usage: 3.8+ KB\n"
     ]
    }
   ],
   "source": [
    "data.info()"
   ]
  },
  {
   "cell_type": "code",
   "execution_count": 8,
   "id": "cf40f75b",
   "metadata": {},
   "outputs": [
    {
     "data": {
      "text/html": [
       "<div>\n",
       "<style scoped>\n",
       "    .dataframe tbody tr th:only-of-type {\n",
       "        vertical-align: middle;\n",
       "    }\n",
       "\n",
       "    .dataframe tbody tr th {\n",
       "        vertical-align: top;\n",
       "    }\n",
       "\n",
       "    .dataframe thead th {\n",
       "        text-align: right;\n",
       "    }\n",
       "</style>\n",
       "<table border=\"1\" class=\"dataframe\">\n",
       "  <thead>\n",
       "    <tr style=\"text-align: right;\">\n",
       "      <th></th>\n",
       "      <th>word_count</th>\n",
       "      <th>Description</th>\n",
       "    </tr>\n",
       "  </thead>\n",
       "  <tbody>\n",
       "    <tr>\n",
       "      <th>0</th>\n",
       "      <td>223</td>\n",
       "      <td>this is a 100  Remote positionTitle  Cybersec...</td>\n",
       "    </tr>\n",
       "    <tr>\n",
       "      <th>1</th>\n",
       "      <td>606</td>\n",
       "      <td>A leading NYC academic medical center is look...</td>\n",
       "    </tr>\n",
       "    <tr>\n",
       "      <th>2</th>\n",
       "      <td>190</td>\n",
       "      <td>Job Description5 10 years of experience withi...</td>\n",
       "    </tr>\n",
       "    <tr>\n",
       "      <th>3</th>\n",
       "      <td>505</td>\n",
       "      <td>Posting Details Alliant Energy has an outstan...</td>\n",
       "    </tr>\n",
       "    <tr>\n",
       "      <th>4</th>\n",
       "      <td>443</td>\n",
       "      <td>Title   Cybersecurity Analyst  with Rep...</td>\n",
       "    </tr>\n",
       "  </tbody>\n",
       "</table>\n",
       "</div>"
      ],
      "text/plain": [
       "   word_count                                        Description\n",
       "0         223   this is a 100  Remote positionTitle  Cybersec...\n",
       "1         606   A leading NYC academic medical center is look...\n",
       "2         190   Job Description5 10 years of experience withi...\n",
       "3         505   Posting Details Alliant Energy has an outstan...\n",
       "4         443         Title   Cybersecurity Analyst  with Rep..."
      ]
     },
     "execution_count": 8,
     "metadata": {},
     "output_type": "execute_result"
    }
   ],
   "source": [
    "data.Description = data.Description.apply(lambda x: re.sub(\"(\\W)\", \" \", x))\n",
    "tokenizer = nlp.WordPunctTokenizer()\n",
    "data[\"word_count\"] = data.Description.apply(lambda x: len(tokenizer.tokenize(x)))\n",
    "data[[\"word_count\", \"Description\"]].head()"
   ]
  },
  {
   "cell_type": "code",
   "execution_count": 9,
   "id": "ca7b9929",
   "metadata": {},
   "outputs": [
    {
     "name": "stdout",
     "output_type": "stream",
     "text": [
      "and         3032\n",
      "to          1416\n",
      "of          1294\n",
      "the         1270\n",
      "in           779\n",
      "a            717\n",
      "security     620\n",
      "with         600\n",
      "for          574\n",
      "or           563\n",
      "dtype: int64\n",
      "strict          1\n",
      "obtaining       1\n",
      "introduction    1\n",
      "release         1\n",
      "NISPOM          1\n",
      "DCID            1\n",
      "tailoring       1\n",
      "ST              1\n",
      "accrediting     1\n",
      "26099           1\n",
      "dtype: int64\n"
     ]
    }
   ],
   "source": [
    "freq = pd.Series(\" \".join(data.Description).split()).value_counts()\n",
    "print(freq.head(10))\n",
    "print(freq.tail(10))"
   ]
  },
  {
   "cell_type": "code",
   "execution_count": 10,
   "id": "c15cfb11",
   "metadata": {},
   "outputs": [],
   "source": [
    "lemma = nlp.WordNetLemmatizer()\n",
    "data.Description = data.Description.apply(lambda x: lemma.lemmatize(x))\n",
    "data.Description = data.Description.apply(lambda x: x.lower())"
   ]
  },
  {
   "cell_type": "code",
   "execution_count": 14,
   "id": "0f1a4609",
   "metadata": {},
   "outputs": [
    {
     "name": "stderr",
     "output_type": "stream",
     "text": [
      "[nltk_data] Downloading package stopwords to\n",
      "[nltk_data]     C:\\Users\\Hannah叶\\AppData\\Roaming\\nltk_data...\n",
      "[nltk_data]   Unzipping corpora\\stopwords.zip.\n"
     ]
    },
    {
     "data": {
      "text/plain": [
       "True"
      ]
     },
     "execution_count": 14,
     "metadata": {},
     "output_type": "execute_result"
    }
   ],
   "source": [
    "import nltk\n",
    "nltk.download('stopwords')"
   ]
  },
  {
   "cell_type": "code",
   "execution_count": 16,
   "id": "1d2d439c",
   "metadata": {},
   "outputs": [
    {
     "name": "stdout",
     "output_type": "stream",
     "text": [
      "<wordcloud.wordcloud.WordCloud object at 0x000001357C0431F0>\n"
     ]
    },
    {
     "data": {
      "image/png": "[encoded data removed]",
      "text/plain": [
       "<Figure size 432x288 with 1 Axes>"
      ]
     },
     "metadata": {
      "needs_background": "light"
     },
     "output_type": "display_data"
    }
   ],
   "source": [
    "stopword_list = set(stopwords.words(\"english\"))\n",
    "\n",
    "word_cloud = WordCloud(\n",
    "                          background_color='white',\n",
    "                          stopwords=stopword_list,\n",
    "                          max_words=100,\n",
    "                          max_font_size=50, \n",
    "                          random_state=42\n",
    "                         ).generate(str(data.Description))\n",
    "print(word_cloud)\n",
    "fig = plt.figure(1)\n",
    "plt.imshow(word_cloud)\n",
    "plt.axis('off')\n",
    "plt.show()\n",
    "fig.savefig(\"word1.png\", dpi=900)"
   ]
  },
  {
   "cell_type": "code",
   "execution_count": 17,
   "id": "f383570a",
   "metadata": {},
   "outputs": [
    {
     "data": {
      "text/plain": [
       "TfidfVectorizer(max_df=0.8, max_features=10000, ngram_range=(1, 3),\n",
       "                stop_words={'a', 'about', 'above', 'after', 'again', 'against',\n",
       "                            'ain', 'all', 'am', 'an', 'and', 'any', 'are',\n",
       "                            'aren', \"aren't\", 'as', 'at', 'be', 'because',\n",
       "                            'been', 'before', 'being', 'below', 'between',\n",
       "                            'both', 'but', 'by', 'can', 'couldn', \"couldn't\", ...})"
      ]
     },
     "execution_count": 17,
     "metadata": {},
     "output_type": "execute_result"
    }
   ],
   "source": [
    "tf_idf = TfidfVectorizer(max_df=0.8,stop_words=stopword_list, max_features=10000, ngram_range=(1,3))\n",
    "tf_idf.fit(data.Description)"
   ]
  },
  {
   "cell_type": "code",
   "execution_count": 29,
   "id": "286a23eb",
   "metadata": {},
   "outputs": [],
   "source": [
    "doc = pd.Series(data.Description[93])\n",
    "doc_vector = tf_idf.transform(doc)"
   ]
  },
  {
   "cell_type": "code",
   "execution_count": 30,
   "id": "966bb38a",
   "metadata": {},
   "outputs": [],
   "source": [
    "#Function for sorting tf_idf in descending order\n",
    "from scipy.sparse import coo_matrix\n",
    "def sort_coo(coo_matrix):\n",
    "    tuples = zip(coo_matrix.col, coo_matrix.data)\n",
    "    return sorted(tuples, key=lambda x: (x[1], x[0]), reverse=True)\n",
    " \n",
    "def extract_topn_from_vector(feature_names, sorted_items, topn=10):\n",
    "    \"\"\"get the feature names and tf-idf score of top n items\"\"\"\n",
    "    \n",
    "    #use only topn items from vector\n",
    "    sorted_items = sorted_items[:topn]\n",
    "    score_vals = []\n",
    "    feature_vals = []\n",
    "    \n",
    "    # word index and corresponding tf-idf score\n",
    "    for idx, score in sorted_items:\n",
    "        \n",
    "        #keep track of feature name and its corresponding score\n",
    "        score_vals.append(round(score, 3))\n",
    "        feature_vals.append(feature_names[idx])\n",
    "\n",
    "    #create a tuples of feature,score\n",
    "    #results = zip(feature_vals,score_vals)\n",
    "    results= {}\n",
    "    for idx in range(len(feature_vals)):\n",
    "        results[feature_vals[idx]]=score_vals[idx]\n",
    "    \n",
    "    return results\n",
    "#sort the tf-idf vectors by descending order of scores\n",
    "sorted_items=sort_coo(doc_vector.tocoo())\n",
    "#extract only the top n; n here is 10\n",
    "feature_names = tf_idf.get_feature_names()\n",
    "keywords=extract_topn_from_vector(feature_names,sorted_items,5)"
   ]
  },
  {
   "cell_type": "code",
   "execution_count": 31,
   "id": "3c327706",
   "metadata": {},
   "outputs": [
    {
     "name": "stdout",
     "output_type": "stream",
     "text": [
      "\n",
      "Description:\n",
      "    cyber security analyst   threat emulation  jbsa 21 0344 w    bowhead seeks a cyber security analyst   threat emulation to support the afcert dco hac contract in san antonio  tx  the ability of the afcert to complete its mission is dependent upon the ability to develop methods to identify  contain  log and analyze security vulnerabilities holes on air force systems cte a analyst contractor employees may be required to provide 24 hour coverage  work  for seven  7  days a week  365 days a year with zero tolerance for error     conduct both automated and manual enterprise vulnerability assessments  including conducting regular patch   configuration vulnerability assessments as directed by operational flight leads    conduct cyber threat emulation operations  and coordinate with security teams to strengthen the overall security posture of the afnet and afin various tools and capabilities    test for real time security vulnerabilities  conduct assessments  and assess vulnerability risk a\n"
     ]
    }
   ],
   "source": [
    "# now print the results\n",
    "print(\"\\nDescription:\")\n",
    "print(doc[0][:1000])"
   ]
  },
  {
   "cell_type": "code",
   "execution_count": 32,
   "id": "0d8353bb",
   "metadata": {},
   "outputs": [
    {
     "name": "stdout",
     "output_type": "stream",
     "text": [
      "Keywords:\n",
      "uic 0.177\n",
      "threat emulation 0.129\n",
      "emulation 0.129\n",
      "bowhead 0.11\n",
      "employees 0.095\n"
     ]
    }
   ],
   "source": [
    "print(\"Keywords:\")\n",
    "for k in keywords:\n",
    "    print(k,keywords[k])"
   ]
  }
 ],
 "metadata": {
  "kernelspec": {
   "display_name": "Python 3 (ipykernel)",
   "language": "python",
   "name": "python3"
  },
  "language_info": {
   "codemirror_mode": {
    "name": "ipython",
    "version": 3
   },
   "file_extension": ".py",
   "mimetype": "text/x-python",
   "name": "python",
   "nbconvert_exporter": "python",
   "pygments_lexer": "ipython3",
   "version": "3.9.12"
  }
 },
 "nbformat": 4,
 "nbformat_minor": 5
}
