{
 "cells": [
  {
   "cell_type": "code",
   "execution_count": 1,
   "id": "59db8569",
   "metadata": {},
   "outputs": [],
   "source": [
    "import pandas as pd\n",
    "import random\n",
    "import os\n",
    "import numpy as np\n",
    "from tqdm import tqdm_notebook\n",
    "from collections import Counter\n",
    "\n",
    "from gensim.models import Word2Vec\n",
    "from sklearn.decomposition import PCA\n",
    "\n",
    "import matplotlib.pyplot as plt\n",
    "%matplotlib inline\n",
    "plt.rcParams['figure.figsize'] = (10.0, 10.0)\n",
    "plt.rcParams.update({'font.size': 15})"
   ]
  },
  {
   "cell_type": "code",
   "execution_count": 2,
   "id": "7373736c",
   "metadata": {},
   "outputs": [
    {
     "data": {
      "text/html": [
       "<div>\n",
       "<style scoped>\n",
       "    .dataframe tbody tr th:only-of-type {\n",
       "        vertical-align: middle;\n",
       "    }\n",
       "\n",
       "    .dataframe tbody tr th {\n",
       "        vertical-align: top;\n",
       "    }\n",
       "\n",
       "    .dataframe thead th {\n",
       "        text-align: right;\n",
       "    }\n",
       "</style>\n",
       "<table border=\"1\" class=\"dataframe\">\n",
       "  <thead>\n",
       "    <tr style=\"text-align: right;\">\n",
       "      <th></th>\n",
       "      <th>Tags</th>\n",
       "      <th>Score</th>\n",
       "    </tr>\n",
       "  </thead>\n",
       "  <tbody>\n",
       "    <tr>\n",
       "      <th>0</th>\n",
       "      <td>ssis&lt;sql-server-data-tools&lt;execute-sql-task</td>\n",
       "      <td>1</td>\n",
       "    </tr>\n",
       "    <tr>\n",
       "      <th>1</th>\n",
       "      <td>google-chrome&lt;google-chrome-extension&lt;google-c...</td>\n",
       "      <td>0</td>\n",
       "    </tr>\n",
       "    <tr>\n",
       "      <th>2</th>\n",
       "      <td>python-3.x&lt;or-tools</td>\n",
       "      <td>-1</td>\n",
       "    </tr>\n",
       "    <tr>\n",
       "      <th>3</th>\n",
       "      <td>python&lt;python-3.x&lt;multiprocessing&lt;functools</td>\n",
       "      <td>0</td>\n",
       "    </tr>\n",
       "    <tr>\n",
       "      <th>4</th>\n",
       "      <td>google-chrome-devtools&lt;puppeteer&lt;chromium</td>\n",
       "      <td>1</td>\n",
       "    </tr>\n",
       "  </tbody>\n",
       "</table>\n",
       "</div>"
      ],
      "text/plain": [
       "                                                Tags  Score\n",
       "0        ssis<sql-server-data-tools<execute-sql-task      1\n",
       "1  google-chrome<google-chrome-extension<google-c...      0\n",
       "2                                python-3.x<or-tools     -1\n",
       "3        python<python-3.x<multiprocessing<functools      0\n",
       "4          google-chrome-devtools<puppeteer<chromium      1"
      ]
     },
     "execution_count": 2,
     "metadata": {},
     "output_type": "execute_result"
    }
   ],
   "source": [
    "path = 'ToolsC.csv'\n",
    "df = pd.read_csv(path)\n",
    "df.columns\n",
    "df.head()"
   ]
  },
  {
   "cell_type": "code",
   "execution_count": 3,
   "id": "c8e2d794",
   "metadata": {},
   "outputs": [
    {
     "name": "stderr",
     "output_type": "stream",
     "text": [
      "C:\\Users\\Public\\Documents\\Wondershare\\CreatorTemp\\ipykernel_16520\\352278747.py:3: TqdmDeprecationWarning: This function will be removed in tqdm==5.0.0\n",
      "Please use `tqdm.notebook.tqdm` instead of `tqdm.tqdm_notebook`\n",
      "  for tag in tqdm_notebook(tags):\n"
     ]
    },
    {
     "data": {
      "application/vnd.jupyter.widget-view+json": {
       "model_id": "dc590010ffe349499c37bfc1222a03b4",
       "version_major": 2,
       "version_minor": 0
      },
      "text/plain": [
       "  0%|          | 0/3595 [00:00<?, ?it/s]"
      ]
     },
     "metadata": {},
     "output_type": "display_data"
    }
   ],
   "source": [
    "tags = list(df['Tags'].unique())\n",
    "all_tags = []\n",
    "for tag in tqdm_notebook(tags):\n",
    "    all_tags += tag.split('<')"
   ]
  },
  {
   "cell_type": "code",
   "execution_count": 4,
   "id": "6da00c94",
   "metadata": {},
   "outputs": [],
   "source": [
    "count_tags = Counter(all_tags)\n",
    "tags = pd.DataFrame([list(count_tags.keys()), list(count_tags.values())])\n",
    "tags = tags.transpose()\n",
    "tags.columns = ['tag', 'count']\n",
    "tags = tags.sort_values(by='count', ascending=False)"
   ]
  },
  {
   "cell_type": "code",
   "execution_count": 5,
   "id": "75deb202",
   "metadata": {
    "scrolled": false
   },
   "outputs": [
    {
     "data": {
      "image/png": "[encoded data removed]",
      "text/plain": [
       "<Figure size 720x720 with 1 Axes>"
      ]
     },
     "metadata": {
      "needs_background": "light"
     },
     "output_type": "display_data"
    }
   ],
   "source": [
    "tools = ['sqlmap', 'zap', 'beef', 'hydra', 'ids', 'ips']\n",
    "x = []\n",
    "y = []\n",
    "for tag in tools:\n",
    "    index = list(tags['tag']).index(tag)\n",
    "    x.append(tag)\n",
    "    y.append(list(tags['count'])[index])\n",
    "    \n",
    "plt.bar(x, y)\n",
    "plt.ylabel('Tag')\n",
    "plt.xlabel('Tag Raw-Count')\n",
    "plt.title('Number of commonly used security tools')\n",
    "plt.show()"
   ]
  },
  {
   "cell_type": "code",
   "execution_count": 6,
   "id": "e0f4b7e4",
   "metadata": {},
   "outputs": [
    {
     "data": {
      "image/png": "[encoded data removed]",
      "text/plain": [
       "<Figure size 720x720 with 1 Axes>"
      ]
     },
     "metadata": {
      "needs_background": "light"
     },
     "output_type": "display_data"
    }
   ],
   "source": [
    "ids = ['suricata', 'fail2ban', 'snort']\n",
    "x = []\n",
    "y = []\n",
    "for tag in ids:\n",
    "    index = list(tags['tag']).index(tag)\n",
    "    x.append(tag)\n",
    "    y.append(list(tags['count'])[index])\n",
    "    \n",
    "plt.bar(x, y)\n",
    "plt.ylabel('Tag')\n",
    "plt.xlabel('Tag Raw-Count')\n",
    "plt.title('Security tools that fall under the IDS category')\n",
    "plt.show()"
   ]
  },
  {
   "cell_type": "code",
   "execution_count": 7,
   "id": "3d64f008",
   "metadata": {},
   "outputs": [
    {
     "ename": "ValueError",
     "evalue": "'datadog' is not in list",
     "output_type": "error",
     "traceback": [
      "\u001b[1;31m---------------------------------------------------------------------------\u001b[0m",
      "\u001b[1;31mValueError\u001b[0m                                Traceback (most recent call last)",
      "Input \u001b[1;32mIn [7]\u001b[0m, in \u001b[0;36m<cell line: 4>\u001b[1;34m()\u001b[0m\n\u001b[0;32m      3\u001b[0m y \u001b[38;5;241m=\u001b[39m []\n\u001b[0;32m      4\u001b[0m \u001b[38;5;28;01mfor\u001b[39;00m tag \u001b[38;5;129;01min\u001b[39;00m ips:\n\u001b[1;32m----> 5\u001b[0m     index \u001b[38;5;241m=\u001b[39m \u001b[38;5;28;43mlist\u001b[39;49m\u001b[43m(\u001b[49m\u001b[43mtags\u001b[49m\u001b[43m[\u001b[49m\u001b[38;5;124;43m'\u001b[39;49m\u001b[38;5;124;43mtag\u001b[39;49m\u001b[38;5;124;43m'\u001b[39;49m\u001b[43m]\u001b[49m\u001b[43m)\u001b[49m\u001b[38;5;241;43m.\u001b[39;49m\u001b[43mindex\u001b[49m\u001b[43m(\u001b[49m\u001b[43mtag\u001b[49m\u001b[43m)\u001b[49m\n\u001b[0;32m      6\u001b[0m     x\u001b[38;5;241m.\u001b[39mappend(tag)\n\u001b[0;32m      7\u001b[0m     y\u001b[38;5;241m.\u001b[39mappend(\u001b[38;5;28mlist\u001b[39m(tags[\u001b[38;5;124m'\u001b[39m\u001b[38;5;124mcount\u001b[39m\u001b[38;5;124m'\u001b[39m])[index])\n",
      "\u001b[1;31mValueError\u001b[0m: 'datadog' is not in list"
     ]
    }
   ],
   "source": [
    "ips = ['fail2ban', 'datadog']\n",
    "x = []\n",
    "y = []\n",
    "for tag in ips:\n",
    "    index = list(tags['tag']).index(tag)\n",
    "    x.append(tag)\n",
    "    y.append(list(tags['count'])[index])\n",
    "    \n",
    "plt.bar(x, y)\n",
    "plt.ylabel('Tag')\n",
    "plt.xlabel('Tag Raw-Count')\n",
    "plt.title('Security tools that fall under the IPS category')\n",
    "plt.show()"
   ]
  },
  {
   "cell_type": "code",
   "execution_count": 9,
   "id": "f290e0a4",
   "metadata": {},
   "outputs": [
    {
     "ename": "ValueError",
     "evalue": "'qradar' is not in list",
     "output_type": "error",
     "traceback": [
      "\u001b[1;31m---------------------------------------------------------------------------\u001b[0m",
      "\u001b[1;31mValueError\u001b[0m                                Traceback (most recent call last)",
      "Input \u001b[1;32mIn [9]\u001b[0m, in \u001b[0;36m<cell line: 4>\u001b[1;34m()\u001b[0m\n\u001b[0;32m      3\u001b[0m y \u001b[38;5;241m=\u001b[39m []\n\u001b[0;32m      4\u001b[0m \u001b[38;5;28;01mfor\u001b[39;00m tag \u001b[38;5;129;01min\u001b[39;00m siem:\n\u001b[1;32m----> 5\u001b[0m     index \u001b[38;5;241m=\u001b[39m \u001b[38;5;28;43mlist\u001b[39;49m\u001b[43m(\u001b[49m\u001b[43mtags\u001b[49m\u001b[43m[\u001b[49m\u001b[38;5;124;43m'\u001b[39;49m\u001b[38;5;124;43mtag\u001b[39;49m\u001b[38;5;124;43m'\u001b[39;49m\u001b[43m]\u001b[49m\u001b[43m)\u001b[49m\u001b[38;5;241;43m.\u001b[39;49m\u001b[43mindex\u001b[49m\u001b[43m(\u001b[49m\u001b[43mtag\u001b[49m\u001b[43m)\u001b[49m\n\u001b[0;32m      6\u001b[0m     x\u001b[38;5;241m.\u001b[39mappend(tag)\n\u001b[0;32m      7\u001b[0m     y\u001b[38;5;241m.\u001b[39mappend(\u001b[38;5;28mlist\u001b[39m(tags[\u001b[38;5;124m'\u001b[39m\u001b[38;5;124mcount\u001b[39m\u001b[38;5;124m'\u001b[39m])[index])\n",
      "\u001b[1;31mValueError\u001b[0m: 'qradar' is not in list"
     ]
    }
   ],
   "source": [
    "siem = ['graylog', 'qradar', 'mcafee']\n",
    "x = []\n",
    "y = []\n",
    "for tag in siem:\n",
    "    index = list(tags['tag']).index(tag)\n",
    "    x.append(tag)\n",
    "    y.append(list(tags['count'])[index])\n",
    "    \n",
    "plt.bar(x, y)\n",
    "plt.ylabel('Tag')\n",
    "plt.xlabel('Tag Raw-Count')\n",
    "plt.title('Security tools that fall under the SIEM category')\n",
    "plt.show()"
   ]
  }
 ],
 "metadata": {
  "kernelspec": {
   "display_name": "Python 3 (ipykernel)",
   "language": "python",
   "name": "python3"
  },
  "language_info": {
   "codemirror_mode": {
    "name": "ipython",
    "version": 3
   },
   "file_extension": ".py",
   "mimetype": "text/x-python",
   "name": "python",
   "nbconvert_exporter": "python",
   "pygments_lexer": "ipython3",
   "version": "3.9.12"
  }
 },
 "nbformat": 4,
 "nbformat_minor": 5
}
